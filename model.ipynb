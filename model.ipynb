{
  "nbformat": 4,
  "nbformat_minor": 0,
  "metadata": {
    "accelerator": "GPU",
    "colab": {
      "name": "model.ipynb",
      "provenance": [],
      "collapsed_sections": [],
      "toc_visible": true
    },
    "kernelspec": {
      "display_name": "Python 3",
      "name": "python3"
    }
  },
  "cells": [
    {
      "cell_type": "code",
      "metadata": {
        "id": "nhu3OifXlYwv",
        "outputId": "7950d6ba-ad74-4991-f0f4-06ee041a8a2b",
        "colab": {
          "base_uri": "https://localhost:8080/",
          "height": 34
        }
      },
      "source": [
        "from google.colab import drive\n",
        "drive.mount('/content/drive')"
      ],
      "execution_count": 1,
      "outputs": [
        {
          "output_type": "stream",
          "text": [
            "Mounted at /content/drive\n"
          ],
          "name": "stdout"
        }
      ]
    },
    {
      "cell_type": "code",
      "metadata": {
        "id": "g61CGLcAlnMT"
      },
      "source": [
        "import numpy as np\n",
        "import matplotlib.pyplot as plt\n",
        "%matplotlib inline \n",
        "from tensorflow.keras.models import Sequential\n",
        "from tensorflow.keras.layers import Dense\n",
        "from tensorflow.keras import optimizers\n",
        "from keras.preprocessing.image import ImageDataGenerator\n",
        "from tensorflow.python.keras.callbacks import EarlyStopping, ModelCheckpoint\n",
        "from tensorflow.keras.applications import ResNet50\n",
        "from keras.applications.resnet50 import preprocess_input\n"
      ],
      "execution_count": 2,
      "outputs": []
    },
    {
      "cell_type": "code",
      "metadata": {
        "id": "35s9ElxtmlOM"
      },
      "source": [
        "resnet_weights_path = 'imagenet'"
      ],
      "execution_count": 3,
      "outputs": []
    },
    {
      "cell_type": "code",
      "metadata": {
        "id": "9ZY5boufmnVd",
        "outputId": "720fe9b7-cf08-484c-c2ac-44276348989f",
        "colab": {
          "base_uri": "https://localhost:8080/",
          "height": 52
        }
      },
      "source": [
        "model = Sequential()\n",
        "model.add(ResNet50(include_top = False, weights = resnet_weights_path, pooling = 'avg'))\n",
        "model.add(Dense(2, activation = 'softmax'))\n",
        "model.layers[0].trainable = False"
      ],
      "execution_count": 4,
      "outputs": [
        {
          "output_type": "stream",
          "text": [
            "Downloading data from https://storage.googleapis.com/tensorflow/keras-applications/resnet/resnet50_weights_tf_dim_ordering_tf_kernels_notop.h5\n",
            "94773248/94765736 [==============================] - 4s 0us/step\n"
          ],
          "name": "stdout"
        }
      ]
    },
    {
      "cell_type": "code",
      "metadata": {
        "id": "krrgcULXmq4z",
        "outputId": "fabf05ef-7a04-4793-eaa1-e7cee7952162",
        "colab": {
          "base_uri": "https://localhost:8080/",
          "height": 225
        }
      },
      "source": [
        "model.summary()\n"
      ],
      "execution_count": 5,
      "outputs": [
        {
          "output_type": "stream",
          "text": [
            "Model: \"sequential\"\n",
            "_________________________________________________________________\n",
            "Layer (type)                 Output Shape              Param #   \n",
            "=================================================================\n",
            "resnet50 (Functional)        (None, 2048)              23587712  \n",
            "_________________________________________________________________\n",
            "dense (Dense)                (None, 2)                 4098      \n",
            "=================================================================\n",
            "Total params: 23,591,810\n",
            "Trainable params: 4,098\n",
            "Non-trainable params: 23,587,712\n",
            "_________________________________________________________________\n"
          ],
          "name": "stdout"
        }
      ]
    },
    {
      "cell_type": "code",
      "metadata": {
        "id": "oC3RuBozmv8o"
      },
      "source": [
        "sgdopt = optimizers.SGD(lr = 0.01, decay = 1e-6, momentum = 0.9, nesterov = True)\n",
        "model.compile(optimizer = sgdopt, loss = 'categorical_crossentropy', metrics = ['accuracy'])"
      ],
      "execution_count": 6,
      "outputs": []
    },
    {
      "cell_type": "code",
      "metadata": {
        "id": "IcLOIZT9m1gb",
        "outputId": "f309c0a1-aab2-43d9-8440-f0d7175100f3",
        "colab": {
          "base_uri": "https://localhost:8080/",
          "height": 52
        }
      },
      "source": [
        "data_generator = ImageDataGenerator(preprocessing_function=preprocess_input)\n",
        "\n",
        "train_data = data_generator.flow_from_directory(\n",
        "        '/content/drive/My Drive/FeedCampData/köpek/train',\n",
        "        target_size=(224, 224),\n",
        "        batch_size=10,\n",
        "        class_mode='categorical')\n",
        "\n",
        "val_data = data_generator.flow_from_directory(\n",
        "        '/content/drive/My Drive/FeedCampData/köpek/validation',\n",
        "        target_size=(224, 224),\n",
        "        batch_size=10,\n",
        "        class_mode='categorical') "
      ],
      "execution_count": 7,
      "outputs": [
        {
          "output_type": "stream",
          "text": [
            "Found 67 images belonging to 2 classes.\n",
            "Found 36 images belonging to 2 classes.\n"
          ],
          "name": "stdout"
        }
      ]
    },
    {
      "cell_type": "code",
      "metadata": {
        "id": "MBSuhPYOm2FC"
      },
      "source": [
        "e_stopper = EarlyStopping(monitor = 'val_loss', patience = 5)\n",
        "checkpointer = ModelCheckpoint(filepath = 'model.hdf5', monitor = 'val_loss', save_best_only = True, mode = 'auto')"
      ],
      "execution_count": 8,
      "outputs": []
    },
    {
      "cell_type": "code",
      "metadata": {
        "id": "kg9GyQA2m4nL",
        "outputId": "6f01d4da-8b0c-476c-cc57-60915b60570a",
        "colab": {
          "base_uri": "https://localhost:8080/",
          "height": 294
        }
      },
      "source": [
        "history = model.fit(\n",
        "        train_data,\n",
        "        epochs = 10,\n",
        "        steps_per_epoch=3,\n",
        "        validation_data=val_data,\n",
        "        validation_steps=3,\n",
        "        callbacks=[checkpointer, e_stopper]\n",
        ")\n"
      ],
      "execution_count": 9,
      "outputs": [
        {
          "output_type": "stream",
          "text": [
            "Epoch 1/10\n",
            "3/3 [==============================] - 20s 7s/step - loss: 0.4385 - accuracy: 0.8000 - val_loss: 0.3541 - val_accuracy: 0.8333\n",
            "Epoch 2/10\n",
            "3/3 [==============================] - 5s 2s/step - loss: 0.1758 - accuracy: 0.9667 - val_loss: 0.0465 - val_accuracy: 1.0000\n",
            "Epoch 3/10\n",
            "3/3 [==============================] - 3s 1s/step - loss: 0.0929 - accuracy: 0.9333 - val_loss: 0.0175 - val_accuracy: 1.0000\n",
            "Epoch 4/10\n",
            "3/3 [==============================] - 2s 776ms/step - loss: 0.0150 - accuracy: 1.0000 - val_loss: 0.0283 - val_accuracy: 0.9667\n",
            "Epoch 5/10\n",
            "3/3 [==============================] - 2s 614ms/step - loss: 0.0014 - accuracy: 1.0000 - val_loss: 0.0785 - val_accuracy: 0.9333\n",
            "Epoch 6/10\n",
            "3/3 [==============================] - 2s 546ms/step - loss: 6.9670e-05 - accuracy: 1.0000 - val_loss: 0.1107 - val_accuracy: 0.9333\n",
            "Epoch 7/10\n",
            "3/3 [==============================] - 2s 595ms/step - loss: 6.2433e-05 - accuracy: 1.0000 - val_loss: 0.0653 - val_accuracy: 0.9667\n",
            "Epoch 8/10\n",
            "3/3 [==============================] - 2s 598ms/step - loss: 7.9200e-04 - accuracy: 1.0000 - val_loss: 0.0821 - val_accuracy: 0.9667\n"
          ],
          "name": "stdout"
        }
      ]
    },
    {
      "cell_type": "code",
      "metadata": {
        "id": "rhejLUs5QHhC"
      },
      "source": [
        "model.save(\"/content/drive/My Drive/FeedCampData/köpek/model.h5\")"
      ],
      "execution_count": 10,
      "outputs": []
    },
    {
      "cell_type": "code",
      "metadata": {
        "id": "pylCiEvYn6lz",
        "outputId": "6e745901-c189-4d19-dcab-8aca89bc3416",
        "colab": {
          "base_uri": "https://localhost:8080/",
          "height": 276
        }
      },
      "source": [
        " plt.figure(1, figsize = (15,8)) \n",
        "    \n",
        "plt.subplot(221)  \n",
        "plt.plot(history.history['accuracy'])  \n",
        "plt.plot(history.history['val_accuracy'])  \n",
        "plt.title('Accuracy')  \n",
        "plt.ylabel('accuracy')  \n",
        "plt.xlabel('epoch')  \n",
        "plt.legend(['train', 'valid']) \n",
        "    \n",
        "plt.subplot(222)  \n",
        "plt.plot(history.history['loss'])  \n",
        "plt.plot(history.history['val_loss'])  \n",
        "plt.title('Loss')  \n",
        "plt.ylabel('loss')  \n",
        "plt.xlabel('epoch')  \n",
        "plt.legend(['train', 'valid']) \n",
        "\n",
        "plt.show()\n"
      ],
      "execution_count": 11,
      "outputs": [
        {
          "output_type": "display_data",
          "data": {
            "image/png": "[encoded data removed]",
            "text/plain": [
              "<Figure size 1080x576 with 2 Axes>"
            ]
          },
          "metadata": {
            "tags": [],
            "needs_background": "light"
          }
        }
      ]
    }
  ]
}